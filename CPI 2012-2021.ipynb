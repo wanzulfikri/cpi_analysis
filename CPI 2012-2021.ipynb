{
 "cells": [
  {
   "cell_type": "markdown",
   "id": "a295e808",
   "metadata": {},
   "source": [
    "# CPI Analysis"
   ]
  },
  {
   "cell_type": "code",
   "execution_count": 1,
   "id": "e1e99f59",
   "metadata": {},
   "outputs": [
    {
     "ename": "NameError",
     "evalue": "name 'pd' is not defined",
     "output_type": "error",
     "traceback": [
      "\u001b[0;31m---------------------------------------------------------------------------\u001b[0m",
      "\u001b[0;31mNameError\u001b[0m                                 Traceback (most recent call last)",
      "Input \u001b[0;32mIn [1]\u001b[0m, in \u001b[0;36m<cell line: 4>\u001b[0;34m()\u001b[0m\n\u001b[1;32m      1\u001b[0m \u001b[38;5;66;03m# import the necessary libraries, set options, and define utility functions\u001b[39;00m\n\u001b[0;32m----> 4\u001b[0m \u001b[43mpd\u001b[49m\u001b[38;5;241m.\u001b[39moptions\u001b[38;5;241m.\u001b[39mdisplay\u001b[38;5;241m.\u001b[39mmax_columns \u001b[38;5;241m=\u001b[39m \u001b[38;5;28;01mNone\u001b[39;00m\n",
      "\u001b[0;31mNameError\u001b[0m: name 'pd' is not defined"
     ]
    }
   ],
   "source": [
    "# import the necessary libraries, set options, and define utility functions\n",
    "\n",
    "\n",
    "pd.options.display.max_columns = None"
   ]
  },
  {
   "cell_type": "code",
   "execution_count": null,
   "id": "cbcdafe0",
   "metadata": {},
   "outputs": [],
   "source": [
    "import pandas as pd\n",
    "# import CPI data from 2012-2021\n",
    "CPI_2021 = pd.read_csv(\"datasets/CPI/CPI2021-Table 1.csv\", header=2)\n",
    "CPI_2020 = pd.read_csv(\"datasets/CPI/CPI2020-Table 1.csv\", header=2)\n",
    "CPI_2019 = pd.read_csv(\"datasets/CPI/CPI2019-Table 1.csv\", header=2)\n",
    "CPI_2018 = pd.read_csv(\"datasets/CPI/CPI2018-Table 1.csv\", header=2)\n",
    "CPI_2017 = pd.read_csv(\"datasets/CPI/CPI2017-Table 1.csv\", header=2)\n",
    "CPI_2016 = pd.read_csv(\"datasets/CPI/CPI2016-Table 1.csv\")\n",
    "CPI_2015 = pd.read_csv(\"datasets/CPI/CPI2015-Table 1.csv\")\n",
    "CPI_2014 = pd.read_csv(\"datasets/CPI/CPI2014-Table 1.csv\")\n",
    "CPI_2013 = pd.read_csv(\"datasets/CPI/CPI2013-Table 1.csv\", header=1)\n",
    "CPI_2012 = pd.read_csv(\"datasets/CPI/CPI2012-Table 1.csv\")\n",
    "\n",
    "# retrieve the Country, ISO3, Region, CPI score, and rank columns\n",
    "# 2021\n",
    "\n",
    "CPI_2021 = CPI_2021.iloc[:, :5]\n",
    "CPI_2021.rename(columns={ \"Country / Territory\": \"Country\", \"Rank\": \"Rank 2021\"}, inplace=True)\n",
    "\n",
    "# 2020\n",
    "CPI_2020 = CPI_2020.iloc[:, :5]\n",
    "CPI_2020.rename(columns={ \"Rank\": \"Rank 2020\"}, inplace=True)\n",
    "\n",
    "CPI = CPI_2021.merge(CPI_2020, how=\"outer\", on=[\"Country\", \"ISO3\", \"Region\"])\n",
    "\n",
    "# 2019\n",
    "CPI_2019 = CPI_2019.iloc[:, :5]\n",
    "CPI_2019.rename(columns={ \"Rank\": \"Rank 2019\"}, inplace=True)\n",
    "\n",
    "CPI = CPI.merge(CPI_2019, how=\"outer\", on=[\"Country\", \"ISO3\", \"Region\"])\n",
    "\n",
    "# 2018\n",
    "CPI_2018 = CPI_2018.iloc[:, :5]\n",
    "CPI_2018.rename(columns={ \"Rank \": \"Rank 2018\", \"CPI Score 2018\": \"CPI score 2018\"}, inplace=True)\n",
    "\n",
    "CPI = CPI.merge(CPI_2018, how=\"outer\", on=[\"Country\", \"ISO3\", \"Region\"])\n",
    "\n",
    "\n",
    "# 2017\n",
    "CPI_2017 = CPI_2017.iloc[:, :5]\n",
    "CPI_2017.rename(columns={ \"Rank \": \"Rank 2017\", \"CPI Score 2017\": \"CPI score 2017\"}, inplace=True)\n",
    "\n",
    "CPI = CPI.merge(CPI_2017, how=\"outer\", on=[\"Country\", \"ISO3\", \"Region\"])\n",
    "\n",
    "# 2016\n",
    "CPI_2016 = CPI_2016.iloc[:, :4]\n",
    "CPI_2016.rename(columns={ \"CPI2016\": \"CPI score 2016\", \"Rank\": \"Rank 2016\"}, inplace=True)\n",
    "\n",
    "CPI = CPI.merge(CPI_2016, how=\"outer\", on=[\"Country\"], suffixes=[\"\", \"_2016\"])\n",
    "CPI.drop(\"Region_2016\", axis=1, inplace=True)\n",
    "\n",
    "# 2015\n",
    "CPI_2015 = CPI_2015.iloc[:, :5]\n",
    "CPI_2015.drop(\"Region\", axis=1, inplace=True)\n",
    "CPI_2015.rename(columns={ \"CPI 2015 Score\": \"CPI score 2015\", \"Country Rank\": \"Rank 2015\", \"Country/Territory\": \"Country\", \"Country Code\": \"ISO3\"}, inplace=True)\n",
    "\n",
    "CPI = CPI.merge(CPI_2015, how=\"outer\", on=[\"Country\"], suffixes=[\"\", \"_2015\"])\n",
    "\n",
    "# 2014\n",
    "CPI_2014 = CPI_2014.iloc[:, :5]\n",
    "CPI_2014.drop(\"Region\", axis=1, inplace=True)\n",
    "CPI_2014.rename(columns={ \"CPI 2014\": \"CPI score 2014\", \"Country Rank\": \"Rank 2014\", \"Country/Territory\": \"Country\", \"Country Code\": \"ISO3\"}, inplace=True)\n",
    "CPI = CPI.merge(CPI_2014, how=\"outer\", on=[\"Country\"], suffixes=[\"\", \"_2014\"])\n",
    "\n",
    "# 2013\n",
    "CPI_2013 = CPI_2013.iloc[:, :7]\n",
    "CPI_2013.drop(labels=[\"Region\", \"IFS Code\", \"Country Rank.1\"], axis=1, inplace=True)\n",
    "CPI_2013.rename(columns={ \"CPI 2013 Score\": \"CPI score 2013\", \"Country Rank\": \"Rank 2013\", \"Country / Territory\": \"Country\", \"Country Code\": \"ISO3\", \"WB Code\": \"ISO3\"}, inplace=True)\n",
    "CPI = CPI.merge(CPI_2013, how=\"outer\", on=[\"Country\"], suffixes=[\"\", \"_2013\"])\n",
    "\n",
    "# 2012\n",
    "CPI_2012 = CPI_2012.iloc[:, :4]\n",
    "CPI_2012.drop(labels=[\"Unnamed: 2\"], axis=1, inplace=True)\n",
    "CPI_2012.rename(columns={ \"CPI 2012 Score\": \"CPI score 2012\", \"Country Rank\": \"Rank 2012\", \"Country / Territory\": \"Country\"}, inplace=True)\n",
    "CPI = CPI.merge(CPI_2012, how=\"outer\", on=[\"Country\"], suffixes=[\"\", \"_2012\"])\n",
    "\n",
    "\n",
    "# sanity check\n",
    "CPI.head()"
   ]
  },
  {
   "cell_type": "code",
   "execution_count": null,
   "id": "1c3925b8",
   "metadata": {
    "scrolled": true
   },
   "outputs": [],
   "source": [
    "CPI.head(5)"
   ]
  },
  {
   "cell_type": "code",
   "execution_count": null,
   "id": "72c852e1",
   "metadata": {},
   "outputs": [],
   "source": [
    "CPI.tail(5)"
   ]
  },
  {
   "cell_type": "code",
   "execution_count": null,
   "id": "66f7f067",
   "metadata": {},
   "outputs": [],
   "source": [
    "CPI.columns"
   ]
  },
  {
   "cell_type": "code",
   "execution_count": null,
   "id": "7c194a6e",
   "metadata": {},
   "outputs": [],
   "source": [
    "CPI.describe()"
   ]
  },
  {
   "cell_type": "code",
   "execution_count": null,
   "id": "64b9bf52",
   "metadata": {
    "scrolled": true
   },
   "outputs": [],
   "source": [
    "CPI.info()"
   ]
  },
  {
   "cell_type": "code",
   "execution_count": null,
   "id": "c470f15b",
   "metadata": {},
   "outputs": [],
   "source": [
    "# there are some null values in the final dataframe\n",
    "# let's see if we can clean them up\n",
    "\n",
    "# Country's frequency table\n",
    "\n",
    "CPI[\"Country\"].value_counts(dropna=False)"
   ]
  },
  {
   "cell_type": "code",
   "execution_count": null,
   "id": "aaf71cd4",
   "metadata": {},
   "outputs": [],
   "source": [
    "# Country's columns\n",
    "CPI.columns"
   ]
  },
  {
   "cell_type": "code",
   "execution_count": null,
   "id": "fe446321",
   "metadata": {},
   "outputs": [],
   "source": [
    "# we discovered some duplicate ISO3 columns\n",
    "\n",
    "# the ISO3 code for certain countries has changed some time in between 2012 to 2021\n",
    "# e.g. Montenegro's ISO3 was once MON but it changed to MNE after the CPI 2015 data was published\n",
    "# trivia: actually, the ISO3 change for Montenegro happened in 2007, but the CPI dataset still used the old ISO3 code\n",
    "\n",
    "# we'll keep the newest ISO3 and drop the rest\n",
    "CPI = CPI.drop([\"ISO3_2015\", \"ISO3_2014\", \"ISO3_2013\"], axis=1)\n",
    "CPI.columns\n",
    "# CPI[CPI[\"ISO3\"] == np.nan]"
   ]
  },
  {
   "cell_type": "code",
   "execution_count": null,
   "id": "dd9750d4",
   "metadata": {},
   "outputs": [],
   "source": [
    "# there's a null value we haven't checked\n",
    "# the curious thing is the value_counts doesn't show the NaN value\n",
    "CPI[\"Country\"].value_counts(dropna=False)\n",
    "\n",
    "# we'll directly retrieve it with isnull\n",
    "CPI[CPI[\"Country\"].isnull()]\n",
    "\n"
   ]
  },
  {
   "cell_type": "code",
   "execution_count": null,
   "id": "f73d2112",
   "metadata": {},
   "outputs": [],
   "source": [
    "# row with index 186 has NaN for all its columns\n",
    "# it probably came from an empty row in one of the original datasets\n",
    "# we can safely drop it\n",
    "CPI.drop(186, axis=0, inplace=True)\n",
    "CPI.info()"
   ]
  },
  {
   "cell_type": "code",
   "execution_count": null,
   "id": "1d6744be",
   "metadata": {},
   "outputs": [],
   "source": [
    "# while looking for the null country, we also discovered a country named GLOBAL AVARAGE below the previous row with index 186\n",
    "# there's barely any data in the GLOBAL AVARAGE and we don't need any of them\n",
    "# we decided to drop it\n",
    "CPI.drop(187, axis=0, inplace=True)\n",
    "CPI.iloc[[187]]\n",
    "\n",
    "# dropping the columns didn't reset index; let's do that\n",
    "CPI.reset_index(drop=True, inplace=True)"
   ]
  },
  {
   "cell_type": "code",
   "execution_count": null,
   "id": "2080d0b6",
   "metadata": {},
   "outputs": [],
   "source": [
    "# there are some other peculiarities with the Country columns\n",
    "# The USA has multiple rows representing it because their country names differ\n",
    "# 1. United States of America\n",
    "# 2. The United States of America\n",
    "# 3. United States\n",
    "\n",
    "CPI[CPI[\"Country\"].str.match(r\"(The )?United States\")]"
   ]
  },
  {
   "cell_type": "code",
   "execution_count": null,
   "id": "a5e0358c",
   "metadata": {},
   "outputs": [],
   "source": [
    "# we'll stick with the row that has the most recent data ,i.e. row 27 with the name United States of America, \n",
    "# and fill the missing values using data from the older rows\n",
    "\n",
    "# this is a recurring issue, so it pays to create a function for it\n",
    "# replace values of row with keep_index with values from row with copy_index based on the column names passed\n",
    "#\n",
    "# finish by dropping the copied rows and reset index\n",
    "def clean_inconsistent_names(df, keep_indexes, copy_dicts):\n",
    "    for keep_index, copy_dict in zip(keep_indexes, copy_dicts):\n",
    "        for copy_index, cols in copy_dict.items():\n",
    "            CPI.loc[keep_index, cols] = CPI.loc[copy_index, cols]\n",
    "    \n",
    "    drop_rows = []\n",
    "    for dict in copy_dicts:\n",
    "            drop_rows += dict.keys()\n",
    "    drop_rows = list(drop_rows)\n",
    "    # DEBUG\n",
    "    # print(drop_rows)\n",
    "    CPI.drop(drop_rows, axis=0, inplace=True)\n",
    "    CPI.reset_index(drop=True, inplace=True)\n",
    "\n",
    "copy_usa_dicts = {186: [\"CPI score 2016\", \"Rank 2016\"], \n",
    "                  197: [\"CPI score 2015\", \"Rank 2015\", \n",
    "                        \"CPI score 2014\", \"Rank 2014\", \n",
    "                        \"CPI score 2013\", \"Rank 2013\", \n",
    "                        \"CPI score 2012\", \"Rank 2012\"]}\n",
    "clean_inconsistent_names(CPI, [27], [copy_usa_dicts])\n",
    "# clean_inconsistent_names(CPI, 27, 197, [\"CPI score 2015\", \"Rank 2015\", \n",
    "#              \"CPI score 2014\", \"Rank 2014\", \n",
    "#              \"CPI score 2013\", \"Rank 2013\", \n",
    "#              \"CPI score 2012\", \"Rank 2012\"])\n",
    "\n",
    "# CPI.loc[27, [\"CPI score 2016\", \"Rank 2016\"]] = CPI.loc[186, [\"CPI score 2016\", \"Rank 2016\"]]\n",
    "# CPI.loc[27, [\"CPI score 2015\", \"Rank 2015\", \n",
    "#              \"CPI score 2014\", \"Rank 2014\", \n",
    "#              \"CPI score 2013\", \"Rank 2013\", \n",
    "#              \"CPI score 2012\", \"Rank 2012\"]] = CPI.loc[197, [\"CPI score 2015\", \"Rank 2015\", \n",
    "#                                                              \"CPI score 2014\", \"Rank 2014\", \n",
    "#                                                              \"CPI score 2013\", \"Rank 2013\", \n",
    "#                                                              \"CPI score 2012\", \"Rank 2012\"]]\n",
    "\n",
    "\n",
    "# we'll also drop the two rows and reset the index afterwards\n",
    "\n",
    "CPI[CPI[\"Country\"].str.match(r\"(The )?United States\")]"
   ]
  },
  {
   "cell_type": "code",
   "execution_count": null,
   "id": "40e90012",
   "metadata": {
    "scrolled": true
   },
   "outputs": [],
   "source": [
    "# Country has no null and duplicate values as of now\n",
    "CPI.info()\n",
    "CPI[CPI.duplicated(subset=\"Country\")]"
   ]
  },
  {
   "cell_type": "code",
   "execution_count": null,
   "id": "c06938a0",
   "metadata": {},
   "outputs": [],
   "source": [
    "# ISO3 has a some null values as well\n",
    "# we'll also be looking for duplicates once the null values are handled\n",
    "\n",
    "CPI[CPI[\"ISO3\"].isnull()]"
   ]
  },
  {
   "cell_type": "code",
   "execution_count": null,
   "id": "5ee75582",
   "metadata": {
    "scrolled": true
   },
   "outputs": [],
   "source": [
    "# while reviewing the ISO3 duplicates, we discovered Country duplicates we didn't manage to capture before this\n",
    "# e.g. Côte d’Ivoire is slightly different than  Côte d´Ivoire because of the use of Greek oxia character in place of apostrophe\n",
    "#\n",
    "# other than that, there is another country with the same naming issue as the United States — Republic of Congo\n",
    "#\n",
    "# South and North Korea possibly have inconsistent names as well\n",
    "\n",
    "# we'll start by examining both the Korea countries\n",
    "\n",
    "CPI[CPI[\"Country\"].str.contains(\"Korea\")]"
   ]
  },
  {
   "cell_type": "code",
   "execution_count": null,
   "id": "f0b25e55",
   "metadata": {},
   "outputs": [],
   "source": [
    "# copy data to most recent Korea countries rows\n",
    "\n",
    "skorea_clean_dict = {189:  [\"CPI score 2016\", \"Rank 2016\", \"CPI score 2015\", \"Rank 2015\", \n",
    "             \"CPI score 2014\", \"Rank 2014\", \n",
    "             \"CPI score 2013\", \"Rank 2013\", \n",
    "             \"CPI score 2012\", \"Rank 2012\"]}\n",
    "\n",
    "nkorea_clean_dict = {195:  [\"CPI score 2016\", \"Rank 2016\", \"CPI score 2015\", \"Rank 2015\", \n",
    "             \"CPI score 2014\", \"Rank 2014\", \n",
    "             \"CPI score 2013\", \"Rank 2013\", \n",
    "             \"CPI score 2012\", \"Rank 2012\"]}\n",
    "\n",
    "# clean both Korean countries\n",
    "clean_inconsistent_names(CPI, [31, 174], [skorea_clean_dict, nkorea_clean_dict])\n",
    "\n",
    "CPI[CPI[\"Country\"].str.contains(\"Korea\")]"
   ]
  },
  {
   "cell_type": "code",
   "execution_count": null,
   "id": "1581efb4",
   "metadata": {},
   "outputs": [],
   "source": [
    "# we'll target Côte d’Ivoire next\n",
    "CPI[CPI[\"ISO3\"].isnull()]"
   ]
  },
  {
   "cell_type": "code",
   "execution_count": null,
   "id": "e580704d",
   "metadata": {},
   "outputs": [],
   "source": [
    "# we'll target Côte d’Ivoire next\n",
    "CPI[CPI[\"Country\"].str.contains(\"Côte\")]\n"
   ]
  },
  {
   "cell_type": "code",
   "execution_count": null,
   "id": "573561a5",
   "metadata": {},
   "outputs": [],
   "source": [
    "# the clean_inconsistent_names doesn't work well for Côte d’Ivoire\n",
    "# so, we'll resort to copying the data without it\n",
    "\n",
    "CPI.loc[181, [\"CPI score 2017\", \"Rank 2017\"]] = CPI.loc[185, [\"CPI score 2017\", \"Rank 2017\"]]\n",
    "CPI.loc[181, [\"CPI score 2016\", \"Rank 2016\"]] = CPI.loc[190, [\"CPI score 2016\", \"Rank 2016\"]]\n",
    "CPI.loc[181, [\"CPI score 2015\", \"Rank 2015\", \n",
    "              \"CPI score 2014\", \"Rank 2014\", \n",
    "              \"CPI score 2013\", \"Rank 2013\", \n",
    "              \"CPI score 2012\", \"Rank 2012\"]] = CPI.loc[194, [\"CPI score 2015\", \"Rank 2015\", \n",
    "                                                              \"CPI score 2014\", \"Rank 2014\", \n",
    "                                                              \"CPI score 2013\", \"Rank 2013\", \n",
    "                                                              \"CPI score 2012\", \"Rank 2012\"]]\n",
    "CPI.drop([185,190,194], inplace=True)\n",
    "CPI[CPI[\"Country\"].str.contains(\"Côte\")]"
   ]
  },
  {
   "cell_type": "code",
   "execution_count": null,
   "id": "eb73c0c9",
   "metadata": {},
   "outputs": [],
   "source": [
    "# next, Congo\n",
    "CPI[CPI[\"Country\"].str.match(r\".*Congo\")]"
   ]
  },
  {
   "cell_type": "code",
   "execution_count": null,
   "id": "9994d247",
   "metadata": {},
   "outputs": [],
   "source": [
    "# there are two countries that has \"Congo\" in their names\n",
    "# on top of that, both of them also contain \"Republic\"\n",
    "# the only thing that differentiates them is the word \"Democratic\"\n",
    "#\n",
    "# but, the CPI recent datasets (2021-2017) simply calls the Republic of the Congo as Congo, while the Democratic Republic of Congo retains the full name\n",
    "# this is probably because they are using the country's ISO short name\n",
    "# refer: \n",
    "# Republic of the Congo - https://www.iso.org/obp/ui/#iso:code:3166:CG\n",
    "# Democratic Republic of the Congo - https://www.iso.org/obp/ui/#iso:code:3166:CD\n",
    "#\n",
    "# To make the distinction clearer, we'll use their full name instead\n",
    "\n",
    "# rename most recent Republic of the Congo row to its full name\n",
    "CPI.loc[161, [\"Country\"]] = \"Republic of the Congo\"\n",
    "CPI[CPI[\"Country\"].str.match(r\".*Congo\")]"
   ]
  },
  {
   "cell_type": "code",
   "execution_count": null,
   "id": "c03eee02",
   "metadata": {},
   "outputs": [],
   "source": [
    "# index 195 name — Congo Republic — is ambiguous, \n",
    "# and because we don't have its ISO3 due to our merge method, we should check its value in the original dataset\n",
    "\n",
    "CPI_2015[CPI_2015[\"Country\"].str.match(r\".*Congo\")]"
   ]
  },
  {
   "cell_type": "code",
   "execution_count": null,
   "id": "037ae141",
   "metadata": {},
   "outputs": [],
   "source": [
    "# we are now certain that index 195 refers to Republic of the Congo (the earlier datasets follow the same pattern)\n",
    "CPI_2014[CPI_2014[\"Country\"].str.match(r\".*Congo\")]"
   ]
  },
  {
   "cell_type": "code",
   "execution_count": null,
   "id": "ada72333",
   "metadata": {},
   "outputs": [],
   "source": [
    "# we'll clean Republic of the Congo first\n",
    "# index 161 - keep\n",
    "# index 195 - copy 2013-2015 scores and ranks\n",
    "# index 192 - copy 2016 score and rank\n",
    "\n",
    "clean_rotc_dicts = {\n",
    "                    195: [\"CPI score 2015\", \"Rank 2015\", \n",
    "                          \"CPI score 2014\", \"Rank 2014\", \n",
    "                          \"CPI score 2013\", \"Rank 2013\",\n",
    "                          \"CPI score 2012\", \"Rank 2012\"],\n",
    "                    192: [\"CPI score 2016\", \"Rank 2016\"]\n",
    "                   }\n",
    "\n",
    "clean_inconsistent_names(CPI, [161], [clean_rotc_dicts])\n",
    "CPI[CPI[\"Country\"].str.match(r\".*Congo\")]"
   ]
  },
  {
   "cell_type": "code",
   "execution_count": null,
   "id": "0d6a0670",
   "metadata": {},
   "outputs": [],
   "source": [
    "# now, Democratic Republic of the Congo\n",
    "# index 169 - keep\n",
    "# index 189 - copy 2016 score and rank\n",
    "clean_drotc_dict = {\n",
    "                    189: [\"CPI score 2016\", \"Rank 2016\"]\n",
    "                   }\n",
    "\n",
    "clean_inconsistent_names(CPI, [169], [clean_drotc_dict])\n",
    "CPI[CPI[\"Country\"].str.match(r\".*Congo\")]"
   ]
  },
  {
   "cell_type": "code",
   "execution_count": null,
   "id": "2b691f59",
   "metadata": {},
   "outputs": [],
   "source": [
    "# there doesn't seem to be any duplicate countries based on the following query\n",
    "# still, it's worthwhile reviewing each of the country to avoid missed duplicates\n",
    "CPI[CPI[\"ISO3\"].isnull()]\n"
   ]
  },
  {
   "cell_type": "code",
   "execution_count": null,
   "id": "0c33c8df",
   "metadata": {},
   "outputs": [],
   "source": [
    "# checking the six ISO3 null countries if they are duplicates\n",
    "# 1. Saint Vincent and The Grenadines\n",
    "# duplicate exist because of \"the\" and \"The\" mismatch\n",
    "CPI[CPI[\"Country\"].str.match(r\".*Vincent\")]"
   ]
  },
  {
   "cell_type": "code",
   "execution_count": null,
   "id": "eb79eae1",
   "metadata": {},
   "outputs": [],
   "source": [
    "# clean Saint Vincent and the Grenadines\n",
    "# we'll keep the row with the most recent data and copy the missing data from the row to be dropped\n",
    "clean_inconsistent_names(CPI,[37],[{185: [\"CPI score 2016\", \"Rank 2016\"]}])\n",
    "CPI[CPI[\"Country\"].str.match(r\".*Vincent\")]"
   ]
  },
  {
   "cell_type": "code",
   "execution_count": null,
   "id": "6f907f4c",
   "metadata": {},
   "outputs": [],
   "source": [
    "# 2. Cape Verde\n",
    "CPI[CPI[\"Country\"].str.match(r\".*Verde\")]"
   ]
  },
  {
   "cell_type": "code",
   "execution_count": null,
   "id": "844eed7a",
   "metadata": {},
   "outputs": [],
   "source": [
    "# clean Cape Verde\n",
    "# we'll keep the row with the most recent data and copy the missing data from the row to be dropped\n",
    "clean_inconsistent_names(CPI,[38],[{185: [\"CPI score 2016\", \"Rank 2016\",\n",
    "                                          \"CPI score 2015\", \"Rank 2015\",\n",
    "                                          \"CPI score 2014\", \"Rank 2014\",\n",
    "                                          \"CPI score 2013\", \"Rank 2013\",\n",
    "                                          \"CPI score 2012\", \"Rank 2012\",]\n",
    "                                   }\n",
    "                                  ])\n",
    "CPI[CPI[\"Country\"].str.match(r\".*Verde\")]"
   ]
  },
  {
   "cell_type": "code",
   "execution_count": null,
   "id": "4aa47581",
   "metadata": {},
   "outputs": [],
   "source": [
    "# 3. Brunei\n",
    "# the name is longer for the row with the most recent data\n",
    "CPI[CPI[\"Country\"].str.match(r\".*Brunei\")]"
   ]
  },
  {
   "cell_type": "code",
   "execution_count": null,
   "id": "efb11d7c",
   "metadata": {},
   "outputs": [],
   "source": [
    "# clean Brunei\n",
    "# we'll keep the row with the most recent data and copy the missing data from the row to be dropped\n",
    "clean_inconsistent_names(CPI,[180],[{185: [\"CPI score 2016\", \"Rank 2016\", \n",
    "                                          \"CPI score 2013\", \"Rank 2013\",\n",
    "                                          \"CPI score 2012\", \"Rank 2012\",]\n",
    "                                   }\n",
    "                                  ])\n",
    "CPI[CPI[\"Country\"].str.match(r\".*Brunei\")]"
   ]
  },
  {
   "cell_type": "code",
   "execution_count": null,
   "id": "929c16a1",
   "metadata": {},
   "outputs": [],
   "source": [
    "# 4. Macedonia\n",
    "# multiple names\n",
    "CPI[CPI[\"Country\"].str.match(r\".*Macedonia\")]"
   ]
  },
  {
   "cell_type": "code",
   "execution_count": null,
   "id": "2e848e74",
   "metadata": {
    "scrolled": true
   },
   "outputs": [],
   "source": [
    "# clean Macedonia\n",
    "# we'll keep the row with the most recent data and copy the missing data from the row to be dropped\n",
    "clean_inconsistent_names(CPI,[91],[{184: [\"CPI score 2018\", \"Rank 2018\", \n",
    "                                          \"CPI score 2017\", \"Rank 2017\",\n",
    "                                          \"CPI score 2013\", \"Rank 2013\",\n",
    "                                          \"CPI score 2012\", \"Rank 2012\"\n",
    "                                         ],\n",
    "                                   \n",
    "                                   185: [ \"CPI score 2016\", \"Rank 2016\",\n",
    "                                           \"CPI score 2015\", \"Rank 2015\",\n",
    "                                           \"CPI score 2014\", \"Rank 2014\"\n",
    "                                         ]\n",
    "                                       \n",
    "                                   }\n",
    "                                  ])\n",
    "CPI[CPI[\"Country\"].str.match(r\".*Macedonia\")]"
   ]
  },
  {
   "cell_type": "code",
   "execution_count": null,
   "id": "1751ff39",
   "metadata": {},
   "outputs": [],
   "source": [
    "# 5 Guinea-Bissau\n",
    "# no '-' for the earlier data\n",
    "CPI[CPI[\"Country\"].str.match(r\".*(Bissau)\")]"
   ]
  },
  {
   "cell_type": "code",
   "execution_count": null,
   "id": "9b386b6e",
   "metadata": {},
   "outputs": [],
   "source": [
    "# clean Bissau\n",
    "# we'll keep the row with the most recent data and copy the missing data from the row to be dropped\n",
    "clean_inconsistent_names(CPI,[162],[{184: [\"CPI score 2016\", \"Rank 2016\", \n",
    "                                          \"CPI score 2015\", \"Rank 2015\",\n",
    "                                          \"CPI score 2014\", \"Rank 2014\",\n",
    "                                          \"CPI score 2013\", \"Rank 2013\",\n",
    "                                          \"CPI score 2012\", \"Rank 2012\"\n",
    "                                         ]\n",
    "                                   }\n",
    "                                  ])\n",
    "CPI[CPI[\"Country\"].str.match(r\".*Bissau\")]"
   ]
  },
  {
   "cell_type": "code",
   "execution_count": null,
   "id": "ffba8c08",
   "metadata": {
    "scrolled": true
   },
   "outputs": [],
   "source": [
    "# 6 Puerto Rico\n",
    "# possibly the only country which missing ISO3 and has no duplicates\n",
    "CPI[CPI[\"Country\"].str.match(r\".*(Puerto|Rico)\")]"
   ]
  },
  {
   "cell_type": "code",
   "execution_count": null,
   "id": "cd4ae7d0",
   "metadata": {},
   "outputs": [],
   "source": [
    "# Puerto Rico's ISO3 is PRI — https://www.iso.org/obp/ui/#iso:code:3166:PR\n",
    "\n",
    "CPI.loc[184, [\"ISO3\"]] = \"PRI\"\n",
    "CPI[CPI[\"Country\"].str.match(r\".*(Puerto|Rico)\")]"
   ]
  },
  {
   "cell_type": "code",
   "execution_count": null,
   "id": "3f16bdb3",
   "metadata": {},
   "outputs": [],
   "source": [
    "# confirm no nulls for ISO3\n",
    "CPI[CPI[\"ISO3\"].isnull()]\n"
   ]
  },
  {
   "cell_type": "code",
   "execution_count": null,
   "id": "282434f0",
   "metadata": {},
   "outputs": [],
   "source": [
    "# review dataframe info\n",
    "CPI.info()"
   ]
  },
  {
   "cell_type": "markdown",
   "id": "a9d13c73",
   "metadata": {},
   "source": [
    "## Region\n",
    "\n"
   ]
  },
  {
   "cell_type": "code",
   "execution_count": null,
   "id": "6d7a782e",
   "metadata": {},
   "outputs": [],
   "source": [
    "# get rows with missing Region\n",
    "CPI[CPI[\"Region\"].isnull()]"
   ]
  },
  {
   "cell_type": "code",
   "execution_count": null,
   "id": "aba32e79",
   "metadata": {},
   "outputs": [],
   "source": [
    "# looking at past datasets, Puerto Rico is in the AME (The Americas) region\n",
    "CPI.loc[184, [\"Region\"]] = \"AME\"\n",
    "CPI[CPI[\"Country\"].str.match(r\".*(Puerto|Rico)\")]"
   ]
  },
  {
   "cell_type": "code",
   "execution_count": null,
   "id": "23143b8f",
   "metadata": {},
   "outputs": [],
   "source": [
    "# confirm no more null regions\n",
    "CPI[CPI[\"Region\"].isnull()]\n",
    "\n"
   ]
  },
  {
   "cell_type": "code",
   "execution_count": null,
   "id": "32359a5c",
   "metadata": {},
   "outputs": [],
   "source": [
    "# review dataframe info\n",
    "CPI.info()\n",
    "\n",
    "# Transparency International - the collector of the data - started standardizing the number of countries\n",
    "# to include in the global ranking to 180 countries each year in 2017\n",
    "#\n",
    "# the numbers of non-null scores and CPI for the year 2016 and earlier matched the number of countries in the corresponding dataset\n",
    "# e.g. 2016 dataset ranked 176 countries which corresponds to the 176 non-null CPI scores in our merged dataset"
   ]
  },
  {
   "cell_type": "code",
   "execution_count": null,
   "id": "5046bd95",
   "metadata": {
    "scrolled": true
   },
   "outputs": [],
   "source": [
    "# we'll check each score and rank, just incase\n",
    "# we only need to check null for CPI score since if CPI score is null, rank will also be null\n",
    "# 2016\n",
    "CPI[CPI[\"CPI score 2016\"].isnull()]"
   ]
  },
  {
   "cell_type": "code",
   "execution_count": null,
   "id": "f4890472",
   "metadata": {},
   "outputs": [],
   "source": [
    "# 2015\n",
    "CPI[CPI[\"CPI score 2015\"].isnull()]"
   ]
  },
  {
   "cell_type": "code",
   "execution_count": null,
   "id": "89e1409b",
   "metadata": {
    "scrolled": true
   },
   "outputs": [],
   "source": [
    "# 2014\n",
    "CPI[CPI[\"CPI score 2014\"].isnull()]"
   ]
  },
  {
   "cell_type": "code",
   "execution_count": null,
   "id": "08071f3e",
   "metadata": {},
   "outputs": [],
   "source": [
    "# 2013\n",
    "CPI[CPI[\"CPI score 2013\"].isnull()]"
   ]
  },
  {
   "cell_type": "code",
   "execution_count": null,
   "id": "d69a7df8",
   "metadata": {
    "scrolled": true
   },
   "outputs": [],
   "source": [
    "# 2012\n",
    "CPI[CPI[\"CPI score 2013\"].isnull()]"
   ]
  },
  {
   "cell_type": "markdown",
   "id": "3539ba05",
   "metadata": {},
   "source": [
    "# Analysis\n",
    "\n",
    "## "
   ]
  },
  {
   "cell_type": "code",
   "execution_count": null,
   "id": "9228ebb6",
   "metadata": {},
   "outputs": [],
   "source": [
    "import matplotlib.pyplot as plt\n",
    "import geopandas as gpd\n",
    "# world = gpd.read_file(gpd.datasets.get_path('naturalearth_lowres'))\n",
    "world = gpd.read_file(\"datasets/WB_countries_Admin0.geojson\",driver=\"GeoJSON\")"
   ]
  },
  {
   "cell_type": "code",
   "execution_count": null,
   "id": "78fbb13b",
   "metadata": {},
   "outputs": [],
   "source": [
    "taiwan = gpd.read_file(\"datasets/taiwan_boundaries.json\",driver=\"GeoJSON\")"
   ]
  },
  {
   "cell_type": "code",
   "execution_count": null,
   "id": "c6a0352f",
   "metadata": {},
   "outputs": [],
   "source": [
    "taiwan.plot()"
   ]
  },
  {
   "cell_type": "code",
   "execution_count": null,
   "id": "80932dd6",
   "metadata": {},
   "outputs": [],
   "source": [
    "f, ax = plt.subplots()\n",
    "world.plot(ax=ax)\n",
    "taiwan.plot(color=\"red\", ax=ax)\n",
    "\n",
    "# taiwan.plot()\n",
    "plt.show()\n",
    "taiwan"
   ]
  },
  {
   "cell_type": "code",
   "execution_count": null,
   "id": "68f34f60",
   "metadata": {},
   "outputs": [],
   "source": [
    "world.head()"
   ]
  },
  {
   "cell_type": "code",
   "execution_count": null,
   "id": "15274c8b",
   "metadata": {},
   "outputs": [],
   "source": [
    "try_merge = world.merge(CPI, how=\"outer\", left_on=\"ISO_A3\", right_on=\"ISO3\")\n",
    "try_merge.head()"
   ]
  },
  {
   "cell_type": "code",
   "execution_count": null,
   "id": "1dff76e8",
   "metadata": {
    "scrolled": false
   },
   "outputs": [],
   "source": [
    "# try_merge[try_merge[\"Country\"].str.match(\".*Norway\")]\n",
    "# try_merge[try_merge[\"Country\"].isnull()]\n",
    "# test = try_merge.fillna(value=\"No Name\")\n",
    "pd.options.display.max_rows = 50\n",
    "\n",
    "# 4 countries were not merged correctly\n",
    "try_merge[try_merge[\"geometry\"].isnull()]\n",
    "\n",
    "# we can drop them and merge them individually\n",
    "# try_merge = try_merge.iloc[[254,255,256,257]]\n",
    "try_merge = try_merge.drop(index=[254,255,256,257])\n",
    "\n",
    "try_merge[try_merge[\"NAME_EN\"].str.match(r\".*(Norway)|(Kosovo)|(France)\")]\n",
    "\n",
    "# 20 - France\n",
    "# 21 - Norway\n",
    "# 22 - Kosovo\n",
    "\n"
   ]
  },
  {
   "cell_type": "code",
   "execution_count": null,
   "id": "053a9f03",
   "metadata": {},
   "outputs": [],
   "source": [
    "try_merge[try_merge[\"NAME_EN\"].str.match(r\".*(Norway)|(Kosovo)|(France)\")]\n"
   ]
  },
  {
   "cell_type": "code",
   "execution_count": null,
   "id": "3d7723c5",
   "metadata": {},
   "outputs": [],
   "source": [
    "missing_countries = [\"Norway\", \"Kosovo\", \"France\"]\n",
    "\n",
    "def gen_col_names():\n",
    "    col_names = []\n",
    "    for num in reversed(range(12,22)):\n",
    "        col_names.append(\"CPI score 20{}\".format(num))\n",
    "        col_names.append(\"Rank 20{}\".format(num))\n",
    "    return col_names\n",
    "\n",
    "col_names = gen_col_names()\n",
    "# for country in missing_countries:\n",
    "#     copy = CPI[CPI[\"Country\"] == country][col_names]\n",
    "#     try_merge.loc[try_merge[\"NAME_EN\"] == country, col_names] = CPI[CPI[\"Country\"] == country][col_names]\n",
    "#     print(try_merge.loc[try_merge[\"NAME_EN\"] == country, col_names])\n",
    "    #     print(try_merge.loc[try_merge[\"NAME_EN\"] == country, col_names])\n",
    "\n",
    "# CPI[CPI[\"Country\"].str.match(r\".*(Norway)|(Kosovo)|(France)\")]\n",
    "# CPI[CPI[\"Country\"].str.match(r\".*(Norway)|(Kosovo)|(France)\")]\n",
    "\n",
    "\n",
    "\n",
    "# try_merge[try_merge[\"NAME_EN\"].isin(missing_countries)].loc[:,\"NAME_EN\":\"Rank 2012\"]\n",
    "# CPI[CPI[\"Country\"] == \"Norway\"][col_names]\n",
    "# try_merge.loc[try_merge[\"NAME_EN\"] == \"Norway\", col_names]\n",
    "\n",
    "# try_merge[try_merge[\"NAME_EN\"] == \"Norway\"].loc[:,\"CPI score 2021\":\"Rank 2012\"] = CPI[CPI[\"Country\"] == \"Norway\"][col_names]\n",
    "# # try_merge[try_merge[\"NAME_EN\"] == \"Norway\", col_names]\n",
    "# try_merge[try_merge[\"NAME_EN\"] == \"Norway\"][col_names]\n",
    "\n",
    "# try_merge[try_merge[\"NAME_EN\"] == \"Norway\"][\"CPI score 2021\"] = 20\n",
    "# try_merge.loc[try_merge[\"NAME_EN\"] == \"Norway\", \"CPI score 2021\"] = CPI[CPI[\"Country\"] == \"Norway\"].loc[:,\"CPI score 2021\"]\n",
    "# try_merge[try_merge[\"NAME_EN\"] == \"Norway\"][\"CPI score 2021\"] \n",
    "# try_merge.loc[try_merge[\"NAME_EN\"] == \"Norway\", \"CPI score 2021\":\"Rank 2012\"]\n",
    "\n",
    "try_merge.loc[try_merge[\"NAME_EN\"] == \"Norway\", [\"CPI score 2021\", \"Rank 2021\"]] = CPI[CPI[\"Country\"] == \"Norway\"][[\"CPI score 2021\", \"Rank 2021\"]]\n",
    "try_merge[try_merge[\"NAME_EN\"] == \"Norway\"][col_names]\n",
    "\n",
    "copy = CPI[CPI[\"Country\"].isin(missing_countries)][[\"Country\"] + col_names]\n",
    "copy\n",
    "\n",
    "try_merge.loc[try_merge[\"NAME_EN\"] == \"Norway\", [\"CPI score 2021\", \"Rank 2021\"]] = CPI[CPI[\"Country\"] == \"Norway\"].loc[:,[\"CPI score 2021\",\"Rank 2012\"]]\n",
    "try_merge.loc[try_merge[\"NAME_EN\"] == \"Norway\", [\"CPI score 2021\", \"Rank 2021\"]]\n",
    "\n",
    "# try_merge.loc[try_merge[\"NAME_EN\"] == \"Norway\", [\"CPI score 2021\"]] = CPI[CPI[\"Country\"] == \"Norway\"][\"CPI score 2021\"].iloc[0]\n",
    "for country in missing_countries:\n",
    "    for col_name in col_names:\n",
    "        try_merge.loc[try_merge[\"NAME_EN\"] == country, [col_name]] = CPI[CPI[\"Country\"] == country].loc[:, col_name].iloc[0]\n",
    "try_merge[try_merge[\"NAME_EN\"].isin(missing_countries)].loc[:,\"NAME_EN\":\"Rank 2012\"]\n",
    "# try_merge.loc[try_merge[\"NAME_EN\"] == \"Norway\", \"CPI score 2021\":\"Rank 2012\"] \n",
    "# CPI[CPI[\"Country\"] == \"Norway\"][\"CPI score 2021\"]\n",
    "# CPI[CPI[\"Country\"] == \"Norway\"][[\"CPI score 2021\"]]\n",
    "# try_merge.merge(copy, how=\"left\", left_on=\"NAME_EN\", right_on=\"\")\n",
    "\n",
    "# try_merge.merge(copy, how=\"left\", left_on=\"NAME_EN\", right_on=\"\")\n",
    "# try_merge.info()"
   ]
  },
  {
   "cell_type": "code",
   "execution_count": null,
   "id": "02d5930e",
   "metadata": {},
   "outputs": [],
   "source": [
    "from mpl_toolkits.axes_grid1 import make_axes_locatable\n",
    "\n",
    "for year in reversed(range(2012,2022)):\n",
    "    fig, ax = plt.subplots(1, 1, figsize=(15,15))\n",
    "    divider = make_axes_locatable(ax)\n",
    "    cax = divider.append_axes(\"right\", size=\"3%\", pad=0.1)\n",
    "    ax.set_axis_off()\n",
    "    ax.set_title(year,fontsize=18)\n",
    "#     fig.suptitle(year, fontsize=15)\n",
    "    try_merge.plot(column='CPI score {}'.format(year), ax=ax,  legend=True, \n",
    "                   legend_kwds={'label': \"CPI Score\"}, \n",
    "               cax=cax,\n",
    "               cmap='RdYlGn',\n",
    "              vmin=0,\n",
    "              vmax=100);\n",
    "    \n",
    "\n",
    "\n",
    "# fig, ax = plt.subplots(1, 1, figsize=(15,15))\n",
    "# divider = make_axes_locatable(ax)\n",
    "# cax = divider.append_axes(\"right\", size=\"3%\", pad=0.1)\n",
    "# try_merge.plot(column='CPI score 2021', ax=ax,  legend=True, legend_kwds={'label': \"CPI Score\"}, \n",
    "#                cax=cax,\n",
    "#                cmap='RdYlGn',\n",
    "#               vmin=0,\n",
    "#               vmax=100);\n",
    "# fig, ax = plt.subplots(1, 1, figsize=(15,15))\n",
    "# divider = make_axes_locatable(ax)\n",
    "# cax = divider.append_axes(\"right\", size=\"3%\", pad=0.1)\n",
    "# cax.vmax=100\n",
    "# try_merge.plot(column='CPI score 2012', ax=ax,  legend=True, legend_kwds={'label': \"CPI Score\"}, \n",
    "#                cax=cax,\n",
    "#                cmap='RdYlGn',\n",
    "#               vmin=0,\n",
    "#               vmax=100)"
   ]
  },
  {
   "cell_type": "markdown",
   "id": "2c1d4918",
   "metadata": {},
   "source": [
    "## Worldwide CPI Score From 2012 to 2021\n",
    "\n",
    "![CPI Score From 2012 to 2021](pictures/cpi_changes_smooth.gif \"CPI Score From 2012 to 2021\")"
   ]
  },
  {
   "cell_type": "code",
   "execution_count": null,
   "id": "44efe0b2",
   "metadata": {},
   "outputs": [],
   "source": [
    "CPI[CPI[\"Country\"] == \"Norway\"].loc[:,\"CPI score 2021\":\"Rank 2012\"].iloc[0]"
   ]
  },
  {
   "cell_type": "code",
   "execution_count": null,
   "id": "459bd7e2",
   "metadata": {},
   "outputs": [],
   "source": [
    "try_merge.loc[try_merge[\"NAME_EN\"] == \"Norway\", \"CPI score 2021\"] "
   ]
  },
  {
   "cell_type": "code",
   "execution_count": null,
   "id": "b04c16d1",
   "metadata": {},
   "outputs": [],
   "source": [
    "try_merge.loc[try_merge[\"NAME_EN\"] == \"Norway\", [\"CPI score 2021\", \"Rank 2021\"]]"
   ]
  },
  {
   "cell_type": "code",
   "execution_count": null,
   "id": "b56ed5df",
   "metadata": {},
   "outputs": [],
   "source": [
    "CPI[CPI[\"Country\"] == \"Norway\"].loc[:,[\"CPI score 2021\",\"Rank 2012\"]]"
   ]
  },
  {
   "cell_type": "code",
   "execution_count": null,
   "id": "70fd6d76",
   "metadata": {},
   "outputs": [],
   "source": [
    "# world[\"iso_a3\"]\n",
    "\n",
    "# world[world[\"name\"].str.match(\"S.*\")]\n",
    "world[world[\"NAME_EN\"] == \"Romania\"]\n"
   ]
  },
  {
   "cell_type": "code",
   "execution_count": null,
   "id": "0b07b66c",
   "metadata": {
    "scrolled": true
   },
   "outputs": [],
   "source": [
    "try_merge[try_merge[\"geometry\"].isnull()]"
   ]
  },
  {
   "cell_type": "code",
   "execution_count": null,
   "id": "9b7c5fce",
   "metadata": {
    "scrolled": true
   },
   "outputs": [],
   "source": [
    "world[world[\"NAME_EN\"].str.match(\".*Norway|France|Taiwan|Kosovo.*\")]"
   ]
  },
  {
   "cell_type": "code",
   "execution_count": null,
   "id": "6c3689fb",
   "metadata": {},
   "outputs": [],
   "source": [
    "# Taiwan is a special case because it is included under China as far as geometry is concerned\n",
    "\n",
    "world[world[\"NAME_EN\"].str.match(\".*T.*\")]\n",
    "# for name in world[\"NAME_EN\"]:\n",
    "#     print(name)"
   ]
  },
  {
   "cell_type": "markdown",
   "id": "75be8552",
   "metadata": {},
   "source": [
    "## Archive"
   ]
  },
  {
   "cell_type": "code",
   "execution_count": null,
   "id": "789ee7be",
   "metadata": {},
   "outputs": [],
   "source": [
    "# ignore this\n",
    "\n",
    "# we decide to progressively lower the range until we can identify the problematic row's index\n",
    "# we're doing it manually, but a function is more appropriate here\n",
    "\n",
    "# this shows no nulls\n",
    "# CPI[:100].info()\n",
    "\n",
    "# this shows a null\n",
    "# CPI[100:].info()\n",
    "\n",
    "# this shows no nulls\n",
    "# CPI[100:150].info()\n",
    "\n",
    "# this shows a null\n",
    "# CPI[150:].info()\n",
    "\n",
    "# this shows no nulls\n",
    "# CPI[150:175].info()\n",
    "\n",
    "# this shows a null\n",
    "# CPI[175:].info()\n",
    "\n",
    "# explore the rows in the identified range\n",
    "# CPI[175:]\n",
    "\n",
    "# # index 186 is the problem. Why weren't we able to filter its Country?\n",
    "# elusive_country = CPI.iloc[186][\"Country\"] \n",
    "\n",
    "# the value is \"nan\" but it's not a string\n",
    "\n",
    "# type(elusive_country)\n",
    "\n",
    "\n",
    "\n",
    "# and checking with math.isnan()\n",
    "# type(CPI.iloc[186][\"Country\"])"
   ]
  },
  {
   "cell_type": "code",
   "execution_count": null,
   "id": "f28ad0e4",
   "metadata": {},
   "outputs": [],
   "source": [
    "# def clean_inconsistent_names(df, keep_indexes, copy_dicts):\n",
    "#     for keep_index, copy_dict in zip(keep_indexes, copy_dicts):\n",
    "#         for copy_index, cols in copy_dict.items():\n",
    "#             CPI.loc[keep_index, cols] = CPI.loc[copy_index, cols]\n",
    "    \n",
    "#     drop_rows = []\n",
    "#     for dict in copy_dicts:\n",
    "#             drop_rows += dict.keys()\n",
    "#     drop_rows = list(drop_rows)\n",
    "#     # DEBUG\n",
    "#     print(drop_rows)\n",
    "#     CPI.drop(drop_rows, axis=0, inplace=True)\n",
    "#     try:\n",
    "#         CPI.reset_index(drop=True, inplace=True)\n",
    "#     except e:\n",
    "#         print(\"Failed to reset index{}\".format(e))\n",
    "    \n",
    "\n",
    "# ivorycoast_clean_dicts = {\n",
    "#                             185: [\"CPI score 2017\", \"Rank 2017\"],\n",
    "#                             190: [\"CPI score 2016\", \"Rank 2016\"],\n",
    "#                             194: [\"CPI score 2015\", \"Rank 2015\", \"CPI score 2014\", \"CPI score 2014\", \n",
    "#                                   \"CPI score 2013\", \"CPI score 2013\", \"CPI score 2012\", \"CPI score 2012\"]\n",
    "# }\n",
    "\n",
    "# clean_inconsistent_names(CPI, [181], [ivorycoast_clean_dicts])\n",
    "# # CPI.reset_index(drop=True, inplace=True)\n",
    "# CPI[CPI[\"Country\"].str.contains(\"Côte\")]"
   ]
  }
 ],
 "metadata": {
  "kernelspec": {
   "display_name": "Python 3 (ipykernel)",
   "language": "python",
   "name": "python3"
  },
  "language_info": {
   "codemirror_mode": {
    "name": "ipython",
    "version": 3
   },
   "file_extension": ".py",
   "mimetype": "text/x-python",
   "name": "python",
   "nbconvert_exporter": "python",
   "pygments_lexer": "ipython3",
   "version": "3.9.13"
  }
 },
 "nbformat": 4,
 "nbformat_minor": 5
}
